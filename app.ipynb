{
 "cells": [
  {
   "cell_type": "code",
   "execution_count": 2,
   "outputs": [],
   "source": [
    "import sim\n",
    "import numpy as np\n",
    "import math\n",
    "import matplotlib.pyplot as plt\n",
    "from compas_fab.robots import Robot\n",
    "\n",
    "from compas.robots import RobotModel\n",
    "from compas.robots import Joint\n",
    "from compas.robots import Link\n",
    "\n",
    "from compas.geometry import Frame\n",
    "from compas.geometry import Transformation"
   ],
   "metadata": {
    "collapsed": false,
    "pycharm": {
     "name": "#%%\n"
    }
   }
  },
  {
   "cell_type": "code",
   "execution_count": 3,
   "outputs": [],
   "source": [
    "\n",
    "def Rz(theta):\n",
    "\n",
    "    return np.array([[  np.cos(theta), -np.sin(theta), 0 ],\n",
    "                     [ np.sin(theta),  np.cos(theta), 0 ],\n",
    "                     [ 0            ,  0            , 1 ]])\n",
    "\n",
    "# Apenas para visualização de um referencial no plano\n",
    "def plot_frame(Porg, R, c=['r', 'g']):\n",
    "\n",
    "    axis_size = 3.0\n",
    "    axes = axis_size*R\n",
    "\n",
    "    x_axis = np.array(axes[0:2,0])\n",
    "    y_axis = np.array(axes[0:2,1])\n",
    "\n",
    "    # X\n",
    "    plt.quiver(*Porg[:2], *x_axis, color=c[0], angles='xy', scale_units='xy', scale=1)\n",
    "\n",
    "    # Y\n",
    "    plt.quiver(*Porg[:2], *y_axis, color=c[1], angles='xy', scale_units='xy', scale=1)"
   ],
   "metadata": {
    "collapsed": false,
    "pycharm": {
     "name": "#%%\n"
    }
   }
  },
  {
   "cell_type": "code",
   "execution_count": 63,
   "outputs": [
    {
     "name": "stdout",
     "output_type": "stream",
     "text": [
      "Program started\n",
      "Connected to remote API server\n",
      "Pos robot:  [4.307851314544678, -2.406334161758423, 3.9019644260406494]\n",
      "Pos tree:  [-0.42507123947143555, -0.1261766105890274, 0.4367992877960205]\n",
      "orientation:  [-2.0315098762512207, -0.06580111384391785, 1.091619610786438]\n"
     ]
    }
   ],
   "source": [
    "print ('Program started')\n",
    "sim.simxFinish(-1) # just in case, close all opened connections\n",
    "clientID=sim.simxStart('127.0.0.1',19997,True,True,5000,5) # Connect to CoppeliaSim\n",
    "\n",
    "if clientID!=-1:\n",
    "    print ('Connected to remote API server')\n",
    "\n",
    "    # Iniciando a simulação\n",
    "    # Deve usar a porta do 'continuous remote API server services' (remoteApiConnections.txt)\n",
    "    e = sim.simxStartSimulation(clientID,sim.simx_opmode_blocking)\n",
    "\n",
    "    # Handle para o ROBÔ\n",
    "    robotname = 'Pioneer_p3dx'\n",
    "    tree = 'conferenceChair'\n",
    "    returnCode, robotHandle = sim.simxGetObjectHandle(clientID, robotname, sim.simx_opmode_oneshot_wait)\n",
    "    returnCode, treeHandle = sim.simxGetObjectHandle(clientID, tree, sim.simx_opmode_oneshot_wait)\n",
    "\n",
    "    returnCode, pos = sim.simxGetObjectPosition(clientID, robotHandle, -1, sim.simx_opmode_oneshot_wait)\n",
    "    returnCode, postree = sim.simxGetObjectPosition(clientID, treeHandle, -1, sim.simx_opmode_oneshot_wait)\n",
    "    returnCode, robotOrient = sim.simxGetObjectOrientation(clientID, objectHandle=treeHandle, relativeToObjectHandle=robotHandle, operationMode= sim.simx_opmode_blocking)\n",
    "    print('Pos robot: ', pos)\n",
    "    print('Pos tree: ', postree)\n",
    "    print('orientation: ', robotOrient)\n",
    "\n",
    "\n",
    "    # Parando a simulação\n",
    "    sim.simxStopSimulation(clientID,sim.simx_opmode_blocking)\n",
    "\n",
    "    # Now close the connection to CoppeliaSim:\n",
    "    sim.simxFinish(clientID)\n",
    "\n",
    "else:\n",
    "    print ('Failed connecting to remote API server')"
   ],
   "metadata": {
    "collapsed": false,
    "pycharm": {
     "name": "#%%\n"
    }
   }
  },
  {
   "cell_type": "code",
   "execution_count": null,
   "metadata": {
    "collapsed": true,
    "pycharm": {
     "name": "#%%\n",
     "is_executing": true
    }
   },
   "outputs": [],
   "source": []
  },
  {
   "cell_type": "code",
   "execution_count": null,
   "outputs": [],
   "source": [],
   "metadata": {
    "collapsed": false,
    "pycharm": {
     "name": "#%%\n"
    }
   }
  }
 ],
 "metadata": {
  "kernelspec": {
   "display_name": "Python 3",
   "language": "python",
   "name": "python3"
  },
  "language_info": {
   "codemirror_mode": {
    "name": "ipython",
    "version": 2
   },
   "file_extension": ".py",
   "mimetype": "text/x-python",
   "name": "python",
   "nbconvert_exporter": "python",
   "pygments_lexer": "ipython2",
   "version": "2.7.6"
  }
 },
 "nbformat": 4,
 "nbformat_minor": 0
}