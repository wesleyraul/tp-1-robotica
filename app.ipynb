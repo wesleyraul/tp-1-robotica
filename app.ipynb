{
 "cells": [
  {
   "cell_type": "code",
   "execution_count": 2,
   "outputs": [],
   "source": [
    "import sim\n",
    "import numpy as np\n",
    "import math\n",
    "import matplotlib.pyplot as plt\n",
    "from compas_fab.robots import Robot\n",
    "\n",
    "from compas.robots import RobotModel\n",
    "from compas.robots import Joint\n",
    "from compas.robots import Link\n",
    "\n",
    "from compas.geometry import Frame\n",
    "from compas.geometry import Transformation"
   ],
   "metadata": {
    "collapsed": false,
    "pycharm": {
     "name": "#%%\n"
    }
   }
  },
  {
   "cell_type": "code",
   "execution_count": 3,
   "outputs": [],
   "source": [
    "def Rz(theta):\n",
    "\n",
    "    return np.array([[  np.cos(theta), -np.sin(theta), 0 ],\n",
    "                     [ np.sin(theta),  np.cos(theta), 0 ],\n",
    "                     [ 0            ,  0            , 1 ]])\n",
    "\n",
    "# Apenas para visualização de um referencial no plano\n",
    "def plot_frame(Porg, R, c=['r', 'g']):\n",
    "\n",
    "    axis_size = 3.0\n",
    "    axes = axis_size*R\n",
    "\n",
    "    x_axis = np.array(axes[0:2,0])\n",
    "    y_axis = np.array(axes[0:2,1])\n",
    "\n",
    "    # X\n",
    "    plt.quiver(*Porg[:2], *x_axis, color=c[0], angles='xy', scale_units='xy', scale=1)\n",
    "\n",
    "    # Y\n",
    "    plt.quiver(*Porg[:2], *y_axis, color=c[1], angles='xy', scale_units='xy', scale=1)"
   ],
   "metadata": {
    "collapsed": false,
    "pycharm": {
     "name": "#%%\n"
    }
   }
  },
  {
   "cell_type": "code",
   "execution_count": 35,
   "outputs": [
    {
     "name": "stdout",
     "output_type": "stream",
     "text": [
      "Program started\n",
      "Connected to remote API server\n",
      "[[ 0.81915085 -0.57357814  0.          2.17500186]\n",
      " [ 0.57357814  0.81915085  0.          0.13879307]\n",
      " [ 0.          0.          1.          0.        ]\n",
      " [ 0.          0.          0.          1.        ]]\n",
      "[ 1.89917654 -0.20837618  0.43679929  1.        ]\n",
      "(0, [-2.32019305229187, 2.505598783493042, 0.03058522939682007])\n"
     ]
    }
   ],
   "source": [
    "print ('Program started')\n",
    "sim.simxFinish(-1) # just in case, close all opened connections\n",
    "clientID=sim.simxStart('127.0.0.1',19997,True,True,5000,5) # Connect to CoppeliaSim\n",
    "\n",
    "if clientID!=-1:\n",
    "    print ('Connected to remote API server')\n",
    "\n",
    "    # Iniciando a simulação\n",
    "    e = sim.simxStartSimulation(clientID,sim.simx_opmode_blocking)\n",
    "\n",
    "\n",
    "    # variáveis auxiliares\n",
    "    aux = np.array([0,0,0,1])\n",
    "    aorg = np.array([0, 0])\n",
    "\n",
    "\n",
    "    # Handle para o ROBÔ\n",
    "    robotName = 'Pioneer_p3dx'\n",
    "    returnCode, robotHandle = sim.simxGetObjectHandle(clientID, robotName, sim.simx_opmode_oneshot_wait)\n",
    "\n",
    "    # Posição e orientação do robô no mundo\n",
    "    returnCode, posRobot = sim.simxGetObjectPosition(clientID, robotHandle, -1, sim.simx_opmode_oneshot_wait)\n",
    "    returnCode, robotOrient = sim.simxGetObjectOrientation(clientID, robotHandle, -1, sim.simx_opmode_oneshot_wait)\n",
    "\n",
    "    # Encontrando matriz de transformação Homogênea do universo para o robô\n",
    "    pr_borg = np.array([posRobot[1], posRobot[2], 0])\n",
    "    Rur = Rz(robotOrient[2])\n",
    "    Tur = np.column_stack((Rur, pr_borg))\n",
    "    Tur = np.row_stack((Tur, aux))\n",
    "\n",
    "    print(Tur)\n",
    "\n",
    "    # Encontrando matriz de transformação Homogênia do robô para o universo\n",
    "    # Tru = np.linalg.inv(Tur)\n",
    "\n",
    "\n",
    "\n",
    "    # Handle da cadeira\n",
    "    chairName = 'conferenceChair'\n",
    "    returnCode, chairHandle = sim.simxGetObjectHandle(clientID, chairName, sim.simx_opmode_oneshot_wait)\n",
    "\n",
    "    # Posição e orientação da cadeira no mundo\n",
    "    returnCode, posChair = sim.simxGetObjectPosition(clientID, chairHandle, -1, sim.simx_opmode_oneshot_wait)\n",
    "    returnCode, chairOrient = sim.simxGetObjectOrientation(clientID, chairHandle, -1, sim.simx_opmode_oneshot_wait)\n",
    "\n",
    "    posChair = np.append(posChair, 1)\n",
    "\n",
    "    p0 = Tur @ posChair\n",
    "\n",
    "\n",
    "    print(p0)\n",
    "    print(sim.simxGetObjectPosition(clientID, objectHandle=robotHandle, relativeToObjectHandle=chairHandle, operationMode=sim.simx_opmode_oneshot_wait))\n",
    "\n",
    "\n",
    "    # Plotando os referenciais\n",
    "\n",
    "    # # Parando a simulação\n",
    "    # sim.simxStopSimulation(clientID,sim.simx_opmode_blocking)\n",
    "\n",
    "    # Now close the connection to CoppeliaSim:\n",
    "    sim.simxFinish(clientID)\n",
    "\n",
    "else:\n",
    "    print ('Failed connecting to remote API server')"
   ],
   "metadata": {
    "collapsed": false,
    "pycharm": {
     "name": "#%%\n"
    }
   }
  },
  {
   "cell_type": "code",
   "execution_count": 33,
   "metadata": {
    "collapsed": true,
    "pycharm": {
     "name": "#%%\n"
    }
   },
   "outputs": [],
   "source": []
  },
  {
   "cell_type": "code",
   "execution_count": 33,
   "outputs": [],
   "source": [],
   "metadata": {
    "collapsed": false,
    "pycharm": {
     "name": "#%%\n"
    }
   }
  },
  {
   "cell_type": "code",
   "execution_count": null,
   "outputs": [],
   "source": [],
   "metadata": {
    "collapsed": false,
    "pycharm": {
     "name": "#%%\n"
    }
   }
  }
 ],
 "metadata": {
  "kernelspec": {
   "display_name": "Python 3",
   "language": "python",
   "name": "python3"
  },
  "language_info": {
   "codemirror_mode": {
    "name": "ipython",
    "version": 2
   },
   "file_extension": ".py",
   "mimetype": "text/x-python",
   "name": "python",
   "nbconvert_exporter": "python",
   "pygments_lexer": "ipython2",
   "version": "2.7.6"
  }
 },
 "nbformat": 4,
 "nbformat_minor": 0
}